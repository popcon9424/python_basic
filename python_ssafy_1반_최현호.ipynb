{
 "cells": [
  {
   "cell_type": "code",
   "execution_count": 6,
   "metadata": {},
   "outputs": [],
   "source": [
    "#1\n",
    "\n",
    "n = 5\n",
    "m = 9"
   ]
  },
  {
   "cell_type": "code",
   "execution_count": 14,
   "metadata": {},
   "outputs": [
    {
     "name": "stdout",
     "output_type": "stream",
     "text": [
      "*****\n",
      "*****\n",
      "*****\n",
      "*****\n",
      "*****\n",
      "*****\n",
      "*****\n",
      "*****\n",
      "*****\n",
      "\n"
     ]
    }
   ],
   "source": [
    "print((\"*\" * n + \"\\n\") * m)"
   ]
  },
  {
   "cell_type": "code",
   "execution_count": 7,
   "metadata": {},
   "outputs": [],
   "source": [
    "#2\n",
    "\n",
    "student = {'python': 80, 'algorithm': 99, 'django': 89, 'flask': 83}"
   ]
  },
  {
   "cell_type": "code",
   "execution_count": 25,
   "metadata": {},
   "outputs": [
    {
     "name": "stdout",
     "output_type": "stream",
     "text": [
      "평균 : 87.75점\n"
     ]
    }
   ],
   "source": [
    "score = list(student.values())\n",
    "sum = 0\n",
    "\n",
    "for i in range(len(score)):\n",
    "    sum += score[i]\n",
    "\n",
    "avg = sum / len(score)\n",
    "print(f\"평균 : {avg}점\")"
   ]
  },
  {
   "cell_type": "code",
   "execution_count": 8,
   "metadata": {},
   "outputs": [],
   "source": [
    "#3\n",
    "\n",
    "blood_types = ['A', 'B', 'A', 'O', 'AB', 'AB', 'O', 'A', 'B', 'O', 'B', 'AB']"
   ]
  },
  {
   "cell_type": "code",
   "execution_count": 11,
   "metadata": {},
   "outputs": [
    {
     "name": "stdout",
     "output_type": "stream",
     "text": [
      "A형 : 3명\n",
      "B형 : 3명\n",
      "O형 : 3명\n",
      "AB형 : 3명\n"
     ]
    }
   ],
   "source": [
    "cnt_A = 0\n",
    "cnt_B = 0\n",
    "cnt_O = 0\n",
    "cnt_AB = 0\n",
    "\n",
    "for i in blood_types:\n",
    "    if i == 'A':\n",
    "        cnt_A += 1\n",
    "    elif i == 'B':\n",
    "        cnt_B += 1\n",
    "    elif i == 'O':\n",
    "        cnt_O += 1\n",
    "    else:\n",
    "        cnt_AB += 1\n",
    "        \n",
    "print(f\"A형 : {cnt_A}명\")\n",
    "print(f\"B형 : {cnt_B}명\")\n",
    "print(f\"O형 : {cnt_O}명\")\n",
    "print(f\"AB형 : {cnt_AB}명\")"
   ]
  },
  {
   "cell_type": "code",
   "execution_count": null,
   "metadata": {},
   "outputs": [],
   "source": []
  }
 ],
 "metadata": {
  "kernelspec": {
   "display_name": "Python 3",
   "language": "python",
   "name": "python3"
  },
  "language_info": {
   "codemirror_mode": {
    "name": "ipython",
    "version": 3
   },
   "file_extension": ".py",
   "mimetype": "text/x-python",
   "name": "python",
   "nbconvert_exporter": "python",
   "pygments_lexer": "ipython3",
   "version": "3.7.1"
  }
 },
 "nbformat": 4,
 "nbformat_minor": 2
}
